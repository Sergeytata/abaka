{
 "cells": [
  {
   "cell_type": "markdown",
   "metadata": {},
   "source": [
    "Implement abaka"
   ]
  },
  {
   "cell_type": "code",
   "execution_count": 37,
   "metadata": {},
   "outputs": [
    {
     "name": "stdout",
     "output_type": "stream",
     "text": [
      "Game over\n",
      "Table state:\n",
      "-----------------------------------------------\n",
      "|1|  -1 -1 -1  3 -1 | 3|    -1 -1 -1 -1 -1 | 0|\n",
      "|2|  -2 -2 -2 -2 -2 | 0|    -2 -2 -2 -2 -2 |-2|\n",
      "|3|   6 -3 -3 -3 -3 | 6|    -3 -3 -3  6 -3 | 0|\n",
      "|4|  -4  8 12 -4 -4 | 0|    -4 -4 -4  8 -4 | 8|\n",
      "|5|  10 -5 -5 10 -5 |10|    10 -5 -5 -5 -5 | 0|\n",
      "|6|  12 -6 -6 -6 12 | 0|    -6 -6 -6 -6 -6 |-6|\n",
      "-----------------------------------------------\n",
      "Player 1 score: 21\n",
      "Player 2 score: -69\n",
      "\n",
      "\n",
      "Player 1 turn\n",
      "Dice state:\n",
      "[6 4 2 5 6]\n",
      "Throws left : 2\n",
      "\n",
      "\n"
     ]
    }
   ],
   "source": [
    "import numpy as np\n",
    "from abaka import Abaka\n",
    "\n",
    "game = Abaka()\n",
    "players_scores = [[], []]\n",
    "while not game.is_over():\n",
    "    state = game.get_state()\n",
    "    available_actions = state[-38:]\n",
    "    action = np.random.choice(np.where(available_actions)[0],1)\n",
    "    action = action[0]\n",
    "    player_idx = game.player_turn_state[0]\n",
    "    score = game.step(action)\n",
    "    new_player_idx = game.player_turn_state[0]\n",
    "    if player_idx != new_player_idx:\n",
    "        players_scores[player_idx].append(score)\n",
    "\n",
    "print(\"Game over\")\n",
    "game.print_state()"
   ]
  }
 ],
 "metadata": {
  "kernelspec": {
   "display_name": "generic",
   "language": "python",
   "name": "python3"
  },
  "language_info": {
   "codemirror_mode": {
    "name": "ipython",
    "version": 3
   },
   "file_extension": ".py",
   "mimetype": "text/x-python",
   "name": "python",
   "nbconvert_exporter": "python",
   "pygments_lexer": "ipython3",
   "version": "3.11.10"
  }
 },
 "nbformat": 4,
 "nbformat_minor": 2
}
